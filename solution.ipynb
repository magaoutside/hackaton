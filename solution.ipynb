import pandas as pd
import numpy as np
from collections import defaultdict
import os

DATA_DIR = "data"

try:
    train = pd.read_csv(os.path.join(DATA_DIR, "train.csv"))
    test = pd.read_csv(os.path.join(DATA_DIR, "test.csv"))
    users = pd.read_csv(os.path.join(DATA_DIR, "users.csv"))
    topics = pd.read_csv(os.path.join(DATA_DIR, "topics.csv"))

except FileNotFoundError:
    print(f"Data files not found in '{DATA_DIR}'.")
    exit()

def calculate_interaction_score(row):
    score = 0
    if 'Liked' in row['interactions']: score += 10
    if 'ReShared' in row['interactions']: score += 100
    if 'PosClicked' in row['interactions']: score += 1
    if 'Vote' in row['interactions']: score += 5
    if 'Commented' in row['interactions']: score += 10
    if 'Disliked' in row['interactions']: score -= 10
    if 'Complaint' in row['interactions']: score -= 1000
    return score

train['interaction_score'] = train.apply(calculate_interaction_score, axis=1)

user_item_interactions = train.groupby(['user', 'topic'])['interaction_score'].sum().unstack(fill_value=0)
user_profiles = train.groupby('user')['interaction_score'].mean()
topic_popularity = train.groupby('topic')['interaction_score'].sum()

def combined_score(user, topic):
    user_bias = user_profiles.get(user, 0) * 0.4782536592480926
    topic_bias = topic_popularity.get(topic, 0) * 0.43972815368492653
    return user_bias + topic_bias

def recommend_topics(user, candidate_topics, num_recommendations=10):
    topic_scores = {}
    for topic in candidate_topics:
        topic_scores[topic] = combined_score(user, topic)
    sorted_topics = sorted(topic_scores.items(), key=lambda item: item[1], reverse=True)
    recommended_topics = [topic for topic, score in sorted_topics[:num_recommendations]]
    return recommended_topics

prediction = pd.DataFrame()
prediction["user"] = test["user"]
prediction["topics"] = ""

for index, row in test.iterrows():
    user = row["user"]
    candidate_topics = [int(topic) for topic in row["topics"].split()]
    recommended_topics = recommend_topics(user, candidate_topics)
    prediction.loc[index, "topics"] = " ".join(map(str, recommended_topics))

prediction.to_csv("Allah.csv", index=False)
print("Allah file created.")
